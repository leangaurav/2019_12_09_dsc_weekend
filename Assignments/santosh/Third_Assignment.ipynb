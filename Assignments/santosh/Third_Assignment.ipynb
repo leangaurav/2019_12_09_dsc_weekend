{
 "cells": [
  {
   "cell_type": "code",
   "execution_count": 1,
   "metadata": {},
   "outputs": [
    {
     "name": "stdout",
     "output_type": "stream",
     "text": [
      "Enter 'x' for exit.\n",
      "Enter First String to swap: asfasdf\n",
      "Enter Second String to swap: sadfd\n",
      "\n",
      "Both String before swap:\n",
      "First String = asfasdf\n",
      "Second String = sadfd\n",
      "\n",
      "Both String after swap:\n",
      "First String = sadfd\n",
      "Second String = asfasdf\n"
     ]
    }
   ],
   "source": [
    "print(\"Enter 'x' for exit.\");\n",
    "string1 = input(\"Enter First String to swap: \");\n",
    "if string1 == 'x':\n",
    "    exit();\n",
    "else:\n",
    "    string2 = input(\"Enter Second String to swap: \");\n",
    "    print(\"\\nBoth String before swap:\");\n",
    "    print(\"First String =\",string1);\n",
    "    print(\"Second String =\",string2);\n",
    "    temp = string1;\n",
    "    string1 = string2;\n",
    "    string2 = temp;\n",
    "    print(\"\\nBoth String after swap:\");\n",
    "    print(\"First String =\", string1);\n",
    "    print(\"Second String =\", string2);"
   ]
  },
  {
   "cell_type": "code",
   "execution_count": 18,
   "metadata": {},
   "outputs": [
    {
     "name": "stdout",
     "output_type": "stream",
     "text": [
      "Input First number: 0\n",
      "Input Second number: 25\n",
      "[13, 21, 5, 12, 23, 14, 11, 6, 13, 23, 0, 19, 20, 22, 18, 20, 12, 14, 10, 1, 21, 14, 4, 12, 12, 8]\n",
      "26\n",
      "13.384615384615385\n"
     ]
    }
   ],
   "source": [
    "import random\n",
    "\n",
    "num1 = int(input(\"Input First number: \"))\n",
    "num2 = int(input(\"Input Second number: \"))\n",
    "\n",
    "random_numbers = [int(random.uniform(num1, num2)) for i in range(26)]\n",
    "print(random_numbers)\n",
    "print(len(random_numbers))\n",
    "print(sum(random_numbers)/len(random_numbers))"
   ]
  },
  {
   "cell_type": "code",
   "execution_count": 23,
   "metadata": {},
   "outputs": [
    {
     "name": "stdout",
     "output_type": "stream",
     "text": [
      "Enter the principal amount: 10\n",
      "Enter the time in years: 5\n",
      "Enter the interest rate: 6\n",
      "Simple Interest = 3.00\n",
      "Enter the principal amount: 1000\n",
      "Enter the time in years: 5\n",
      "Enter the interest rate: 6\n",
      "Simple Interest = 300.00\n"
     ]
    }
   ],
   "source": [
    "def get_si():\n",
    "    p = float(input(\"Enter the principal amount: \"))\n",
    "    t = float(input(\"Enter the time in years: \"))\n",
    "    r = float(input(\"Enter the interest rate: \"))\n",
    " \n",
    "    simple_interest = (p * t * r) / 100\n",
    " \n",
    "    print(\"Simple Interest = %.2f\" %simple_interest)\n",
    "    return\n",
    "\n",
    "get_si()\n",
    "get_si()"
   ]
  },
  {
   "cell_type": "code",
   "execution_count": 1,
   "metadata": {},
   "outputs": [
    {
     "name": "stdout",
     "output_type": "stream",
     "text": [
      "Enter the principal amount: 7\n",
      "70.0\n",
      "Simple Interest = 0.70\n",
      "Enter the principal amount: 8\n",
      "80.0\n",
      "Simple Interest = 0.80\n"
     ]
    }
   ],
   "source": [
    "def get_si(r=10,t=1):\n",
    "    p = float(input(\"Enter the principal amount: \"))\n",
    "    #t = float(input(\"Enter the time in years: \"))\n",
    "    #r = float(input(\"Enter the interest rate: \"))\n",
    "    amnt=p * t * r\n",
    "    print(amnt)\n",
    "    simple_interest = amnt / 100\n",
    "    print(\"Simple Interest = %.2f\" %simple_interest)\n",
    "    return\n",
    "\n",
    "get_si()\n",
    "get_si()"
   ]
  },
  {
   "cell_type": "code",
   "execution_count": 6,
   "metadata": {},
   "outputs": [
    {
     "name": "stdout",
     "output_type": "stream",
     "text": [
      "Your String is: dBPOBOBDYCDyvty\n"
     ]
    },
    {
     "data": {
      "text/plain": [
       "'DBPOBOBDYCDYVTY'"
      ]
     },
     "execution_count": 6,
     "metadata": {},
     "output_type": "execute_result"
    }
   ],
   "source": [
    "from string import ascii_letters, punctuation, digits\n",
    "from random import choice, randint\n",
    "min = 12\n",
    "max = 15\n",
    "string_format = ascii_letters\n",
    "generated_string = \"\".join(choice(string_format) for x in range(randint(min, max)))\n",
    "print(\"Your String is: {0}\".format(generated_string))\n",
    "generated_string.upper()"
   ]
  },
  {
   "cell_type": "code",
   "execution_count": 7,
   "metadata": {},
   "outputs": [
    {
     "name": "stdout",
     "output_type": "stream",
     "text": [
      "Enter the principal amount: 10\n",
      "Enter the interest rate: 3\n",
      "Enter the time in years: 3\n",
      "Compound amount is 10.93\n",
      "Compound interest is 0.93\n"
     ]
    }
   ],
   "source": [
    "def compound_interest(principle, rate, time):\n",
    "    result = principle * (pow((1 + rate / 100), time))\n",
    "    return result\n",
    " \n",
    " \n",
    "p = float(input(\"Enter the principal amount: \"))\n",
    "r = float(input(\"Enter the interest rate: \"))\n",
    "t = float(input(\"Enter the time in years: \"))\n",
    " \n",
    "amount = compound_interest(p, r, t)\n",
    "interest = amount - p\n",
    "print(\"Compound amount is %.2f\" % amount)\n",
    "print(\"Compound interest is %.2f\" % interest)"
   ]
  },
  {
   "cell_type": "code",
   "execution_count": 10,
   "metadata": {},
   "outputs": [
    {
     "name": "stdout",
     "output_type": "stream",
     "text": [
      "Quotient is: 2\n",
      "Remainder is: 1\n"
     ]
    }
   ],
   "source": [
    "def get_q_r(a,b):\n",
    "    #a=int(input(\"Enter the first number: \"))\n",
    "    #b=int(input(\"Enter the second number: \"))\n",
    "    quotient=a//b\n",
    "    remainder=a%b\n",
    "    print(\"Quotient is:\",quotient)\n",
    "    print(\"Remainder is:\",remainder)\n",
    "    return\n",
    "get_q_r(5,2)\n"
   ]
  },
  {
   "cell_type": "code",
   "execution_count": 11,
   "metadata": {},
   "outputs": [
    {
     "name": "stdout",
     "output_type": "stream",
     "text": [
      "Enter the height of triangle :  5\n",
      "Enter the base of triangle :  3\n",
      "Hyptenause of triangle is :  5.830951894845301\n"
     ]
    }
   ],
   "source": [
    "from math import sqrt\n",
    "height=float(input('Enter the height of triangle :  '))\n",
    "base=float(input('Enter the base of triangle :  '))\n",
    "hyptenause=sqrt(height**2 + base**2)\n",
    "print(\"Hyptenause of triangle is : \", hyptenause )\n"
   ]
  },
  {
   "cell_type": "code",
   "execution_count": 13,
   "metadata": {},
   "outputs": [
    {
     "name": "stdout",
     "output_type": "stream",
     "text": [
      "3.7.4\n"
     ]
    }
   ],
   "source": [
    "from platform import python_version\n",
    "print(python_version())"
   ]
  },
  {
   "cell_type": "code",
   "execution_count": 17,
   "metadata": {},
   "outputs": [
    {
     "name": "stdout",
     "output_type": "stream",
     "text": [
      "2 -2\n"
     ]
    }
   ],
   "source": [
    "x =2\n",
    "x *=3\n",
    "x=x%4\n",
    "y=-x\n",
    "print(x,y)"
   ]
  },
  {
   "cell_type": "code",
   "execution_count": 18,
   "metadata": {},
   "outputs": [
    {
     "name": "stdout",
     "output_type": "stream",
     "text": [
      "None\n"
     ]
    }
   ],
   "source": [
    "def funct():\n",
    "    pass\n",
    "print(funct())"
   ]
  }
 ],
 "metadata": {
  "kernelspec": {
   "display_name": "Python 3",
   "language": "python",
   "name": "python3"
  },
  "language_info": {
   "codemirror_mode": {
    "name": "ipython",
    "version": 3
   },
   "file_extension": ".py",
   "mimetype": "text/x-python",
   "name": "python",
   "nbconvert_exporter": "python",
   "pygments_lexer": "ipython3",
   "version": "3.7.4"
  }
 },
 "nbformat": 4,
 "nbformat_minor": 2
}
