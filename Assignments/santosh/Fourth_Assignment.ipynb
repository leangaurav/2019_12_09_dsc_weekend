{
 "cells": [
  {
   "cell_type": "code",
   "execution_count": 13,
   "metadata": {},
   "outputs": [
    {
     "name": "stdout",
     "output_type": "stream",
     "text": [
      "Enter the first no: 2\n",
      "Enter the second no: 2\n",
      "2.0\n",
      "2.0\n",
      "No is divisble\n"
     ]
    }
   ],
   "source": [
    "no1= float((input('Enter the first no: ')))\n",
    "no2= float((input('Enter the second no: ')))\n",
    "print(no1)\n",
    "print(no2)\n",
    "if (no1 % no2) == 0:\n",
    "    print('No is divisble')\n",
    "else:\n",
    "    print('No is not divisble')"
   ]
  },
  {
   "cell_type": "code",
   "execution_count": 17,
   "metadata": {},
   "outputs": [
    {
     "name": "stdout",
     "output_type": "stream",
     "text": [
      "Enter the word:  tissit\n",
      "Is palindrome:NO\n",
      "Is palindrome:NO\n",
      "Is palindrome:NO\n",
      "Is palindrome:NO\n",
      "Is palindrome:NO\n",
      "Is palindrome:YES\n"
     ]
    }
   ],
   "source": [
    "x = input('Enter the word:  ')\n",
    "w = \"\" \n",
    "for i in x: \n",
    "    w = i + w \n",
    "    if (x==w): \n",
    "        print(\"Is palindrome:YES\")\n",
    "    else:\n",
    "        print(\"Is palindrome:NO\")"
   ]
  },
  {
   "cell_type": "code",
   "execution_count": 18,
   "metadata": {},
   "outputs": [
    {
     "name": "stdout",
     "output_type": "stream",
     "text": [
      "Input lengths of the triangle sides: \n",
      "x: 1\n",
      "y: 2\n",
      "z: 3\n",
      "Scalene triangle\n"
     ]
    }
   ],
   "source": [
    "print(\"Input lengths of the triangle sides: \")\n",
    "x = int(input(\"x: \"))\n",
    "y = int(input(\"y: \"))\n",
    "z = int(input(\"z: \"))\n",
    "\n",
    "if x == y == z:\n",
    "    print(\"Equilateral triangle\")\n",
    "elif x==y or y==z or z==x:\n",
    "    print(\"isosceles triangle\")\n",
    "else:\n",
    "    print(\"Scalene triangle\")"
   ]
  },
  {
   "cell_type": "code",
   "execution_count": 20,
   "metadata": {},
   "outputs": [
    {
     "name": "stdout",
     "output_type": "stream",
     "text": [
      "Enter a number: 3\n",
      "3 is Odd\n"
     ]
    }
   ],
   "source": [
    "num = int(input(\"Enter a number: \"))\n",
    "if (num % 2) == 0:\n",
    "   print(\"{0} is Even\".format(num))\n",
    "else:\n",
    "   print(\"{0} is Odd\".format(num))"
   ]
  },
  {
   "cell_type": "code",
   "execution_count": 40,
   "metadata": {},
   "outputs": [
    {
     "data": {
      "text/plain": [
       "'Child'"
      ]
     },
     "execution_count": 40,
     "metadata": {},
     "output_type": "execute_result"
    }
   ],
   "source": [
    "def age_buckets(x):\n",
    "    if x >0 and x<=12 : return 'Child' \n",
    "    elif x > 13 and x <=17: return 'Teen' \n",
    "    elif x > 18 and x<=50: return 'Adult' \n",
    "    elif x >51 and x<100: return 'Sr citize' \n",
    "    elif x > 100: return 'Cogratualtions' \n",
    "    else: return 'other'\n",
    "    \n",
    "age_buckets(10)"
   ]
  },
  {
   "cell_type": "code",
   "execution_count": 44,
   "metadata": {},
   "outputs": [
    {
     "name": "stdout",
     "output_type": "stream",
     "text": [
      "Enter year to be checked:2020\n",
      "The year is a leap year!\n"
     ]
    }
   ],
   "source": [
    "year=int(input(\"Enter year to be checked:\"))\n",
    "\n",
    "if(year%4==0 and year%100!=0 or year%400==0):\n",
    "    print(\"The year is a leap year!\")\n",
    "else:\n",
    "    print(\"The year isn't a leap year!\")"
   ]
  },
  {
   "cell_type": "code",
   "execution_count": 53,
   "metadata": {},
   "outputs": [
    {
     "name": "stdout",
     "output_type": "stream",
     "text": [
      "Enter any word :  dsf;ldskf;ldskf;lsdk\n",
      "\n",
      "Total Number of Alphabets in this String :   17\n",
      "DSF;LDSKF;LDSKF;LSDK\n"
     ]
    }
   ],
   "source": [
    "txt=input('Enter any word :  ')\n",
    "alphabets=0\n",
    "for i in range(len(txt)):\n",
    "    if(txt[i].isalpha()):\n",
    "        alphabets = alphabets + 1\n",
    "        \n",
    "        \n",
    "print(\"\\nTotal Number of Alphabets in this String :  \", alphabets)\n",
    "if alphabets % 2 !=0:\n",
    "    print(txt.upper())"
   ]
  }
 ],
 "metadata": {
  "kernelspec": {
   "display_name": "Python 3",
   "language": "python",
   "name": "python3"
  },
  "language_info": {
   "codemirror_mode": {
    "name": "ipython",
    "version": 3
   },
   "file_extension": ".py",
   "mimetype": "text/x-python",
   "name": "python",
   "nbconvert_exporter": "python",
   "pygments_lexer": "ipython3",
   "version": "3.7.4"
  }
 },
 "nbformat": 4,
 "nbformat_minor": 2
}
