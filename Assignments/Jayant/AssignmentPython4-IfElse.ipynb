{
 "cells": [
  {
   "cell_type": "markdown",
   "metadata": {},
   "source": [
    "1. WAP to input 2 numbers and check whether the first is divisible by the second and print true or\n",
    "false depending on the divisibility. "
   ]
  },
  {
   "cell_type": "code",
   "execution_count": 6,
   "metadata": {},
   "outputs": [
    {
     "name": "stdout",
     "output_type": "stream",
     "text": [
      "first: 4\n",
      "second: 3\n",
      "False\n"
     ]
    }
   ],
   "source": [
    "n1 = int(input('first: '))\n",
    "n2 = int(input('second: '))\n",
    "if n1%n2 ==0:\n",
    "    print('True')\n",
    "else:\n",
    "    print('False')"
   ]
  },
  {
   "cell_type": "markdown",
   "metadata": {},
   "source": [
    "2. In the palindrome example, make the code case insensitive.\n",
    " i.e. Naman should also be treated as a palindrome (HINT: first convert to either upper or\n",
    "lower case)"
   ]
  },
  {
   "cell_type": "markdown",
   "metadata": {},
   "source": [
    "# 2. In the palindrome example, make the code case insensitive.\n",
    " i.e. Naman should also be treated as a palindrome (HINT: first convert to either upper or\n",
    "lower case)"
   ]
  },
  {
   "cell_type": "code",
   "execution_count": 17,
   "metadata": {},
   "outputs": [
    {
     "name": "stdout",
     "output_type": "stream",
     "text": [
      "enter string: Naman\n",
      "NAMAN = it's a palindrome\n"
     ]
    }
   ],
   "source": [
    "s = input('enter string: ')\n",
    "s1 = s.upper()\n",
    "if s1[:] ==s1[::-1]:\n",
    "    print(s1, \"= it's a palindrome\")\n",
    "else:\n",
    "    print(s1 ,' = is not a Palindrome')"
   ]
  },
  {
   "cell_type": "markdown",
   "metadata": {},
   "source": [
    "3. WAP to input the sides of a triangle and print whether equilateral(all sides equal), isosceles (2\n",
    "sides equal), or scalene (no sides equal). \n"
   ]
  },
  {
   "cell_type": "code",
   "execution_count": 29,
   "metadata": {},
   "outputs": [
    {
     "name": "stdout",
     "output_type": "stream",
     "text": [
      "first: 4\n",
      "second: 4\n",
      "third: 4\n",
      "Eqilateral Triangle\n"
     ]
    }
   ],
   "source": [
    "a=input('first: ')\n",
    "b=input('second: ')\n",
    "c=input('third: ')\n",
    "if a==b==c:\n",
    "    print('Eqilateral Triangle')\n",
    "elif a==b or b==c or c==a:\n",
    "    print('Isosceles Triangle')\n",
    "else:\n",
    "    print('Scalene Triangle')"
   ]
  },
  {
   "cell_type": "markdown",
   "metadata": {},
   "source": [
    "4. WAP to input a number and print if it is even or odd. \n"
   ]
  },
  {
   "cell_type": "code",
   "execution_count": 32,
   "metadata": {},
   "outputs": [
    {
     "name": "stdout",
     "output_type": "stream",
     "text": [
      "enter number: 3\n",
      "odd\n"
     ]
    }
   ],
   "source": [
    "n=int(input('enter number: '))\n",
    "if n%2==0:\n",
    "    print(\"even\")\n",
    "else:\n",
    "    print('odd')"
   ]
  },
  {
   "cell_type": "markdown",
   "metadata": {},
   "source": [
    "5. WAP to input age and print the respective text\n",
    "depending on the age ranges as present in the table\n",
    "\n",
    "Age        Text to be displayed\n",
    "0-12           Child\n",
    "13-17          Teen\n",
    "18-50          Adult\n",
    "51-100      Senior Citizen\n",
    "age > 100    Contratulations "
   ]
  },
  {
   "cell_type": "code",
   "execution_count": 37,
   "metadata": {},
   "outputs": [
    {
     "name": "stdout",
     "output_type": "stream",
     "text": [
      "age: 70\n",
      "Senior Citizen\n"
     ]
    }
   ],
   "source": [
    "a=int(input('age: '))\n",
    "if a<0:\n",
    "    print('invalid')    \n",
    "elif 12>=a>=0:\n",
    "    print('child')\n",
    "elif 17>=a>=13:\n",
    "    print('Teen')\n",
    "elif 50>=a>=18:\n",
    "    print('Adult')\n",
    "elif 100>=a>=51:\n",
    "    print('Senior Citizen')\n",
    "else:\n",
    "    print('Contratulations')"
   ]
  },
  {
   "cell_type": "markdown",
   "metadata": {},
   "source": [
    "7. WAP to input a string and convert it to Upper Case if number of characters is odd and convert to\n",
    "lower case otherwise. \n"
   ]
  },
  {
   "cell_type": "code",
   "execution_count": 42,
   "metadata": {},
   "outputs": [
    {
     "name": "stdout",
     "output_type": "stream",
     "text": [
      "string: jayant\n",
      "JAYANT\n"
     ]
    }
   ],
   "source": [
    "s=input('string: ')\n",
    "if len(s)%2==0:\n",
    "    print(s.upper())\n",
    "else:\n",
    "    print(s.lower())"
   ]
  },
  {
   "cell_type": "markdown",
   "metadata": {},
   "source": [
    "8. WAP to input a string and print Veg if the string doesn’t contain the word egg. Otherwise print\n",
    "Non-Veg. As usual eggs can be both big and small. "
   ]
  },
  {
   "cell_type": "code",
   "execution_count": 53,
   "metadata": {},
   "outputs": [
    {
     "name": "stdout",
     "output_type": "stream",
     "text": [
      "what's your food today : paneer paratha\n",
      "Veg\n"
     ]
    }
   ],
   "source": [
    "s=input(\"what's your food today : \")\n",
    "\n",
    "if \"egg\" in s : \n",
    "    print (\"Non-veg\") \n",
    "else :  \n",
    "    print (\"Veg\") "
   ]
  },
  {
   "cell_type": "code",
   "execution_count": 52,
   "metadata": {},
   "outputs": [
    {
     "name": "stdout",
     "output_type": "stream",
     "text": [
      "what's your food today : egg paratha\n",
      "non-veg\n"
     ]
    }
   ],
   "source": [
    "s=input(\"what's your food today : \")\n",
    "r = s.find(\"egg\") \n",
    "if r >= 0: \n",
    "    print (\"non-veg\") \n",
    "else : \n",
    "    print (\"Veg\")"
   ]
  },
  {
   "cell_type": "code",
   "execution_count": 58,
   "metadata": {},
   "outputs": [
    {
     "name": "stdout",
     "output_type": "stream",
     "text": [
      "true\n"
     ]
    }
   ],
   "source": [
    "if not 1:\n",
    "    print('false')\n",
    "else:\n",
    "    print('true')"
   ]
  },
  {
   "cell_type": "code",
   "execution_count": 59,
   "metadata": {},
   "outputs": [
    {
     "name": "stdout",
     "output_type": "stream",
     "text": [
      "false\n"
     ]
    }
   ],
   "source": [
    "if 1:\n",
    "    print('false')\n",
    "else:\n",
    "    print('true')"
   ]
  },
  {
   "cell_type": "code",
   "execution_count": 61,
   "metadata": {},
   "outputs": [
    {
     "name": "stdout",
     "output_type": "stream",
     "text": [
      "Weird !!\n"
     ]
    }
   ],
   "source": [
    "if 'a'>'A':\n",
    "    print('Weird !!')\n",
    "else:\n",
    "    print('Make Sense')"
   ]
  },
  {
   "cell_type": "code",
   "execution_count": 73,
   "metadata": {},
   "outputs": [
    {
     "name": "stdout",
     "output_type": "stream",
     "text": [
      "[4, 3, 2, 1]\n"
     ]
    }
   ],
   "source": [
    "#WHY I M GETTING THE SAME RESULT HERE IN BOTH THE CONDITIONS\n",
    "a = [1,2,3,4]\n",
    "if 1>1:\n",
    "    a=a[::-1]\n",
    "    \n",
    "else:\n",
    "    a=a[-1::-1]\n",
    "    print(a)"
   ]
  },
  {
   "cell_type": "code",
   "execution_count": 74,
   "metadata": {},
   "outputs": [
    {
     "name": "stdout",
     "output_type": "stream",
     "text": [
      "[4, 3, 2, 1]\n"
     ]
    }
   ],
   "source": []
  },
  {
   "cell_type": "markdown",
   "metadata": {},
   "source": [
    "10. WAP to input marks in 5 subjects and print the grade as per following logic:\n",
    "% between 90-100 Grade-A\n",
    "% between 80 - 89 Grade-B\n",
    "% between 60 - 79 Grade-C\n",
    "% < 60 Grade-F \n"
   ]
  },
  {
   "cell_type": "code",
   "execution_count": 92,
   "metadata": {},
   "outputs": [
    {
     "name": "stdout",
     "output_type": "stream",
     "text": [
      "enter marks: 25\n",
      "enter marks: 38\n",
      "enter marks: 79\n",
      "enter marks: 99\n",
      "enter marks: 69\n",
      "Grade-D\n"
     ]
    }
   ],
   "source": [
    "s1 = int(input('enter marks: '))\n",
    "s2 = int(input('enter marks: '))\n",
    "s3 = int(input('enter marks: '))\n",
    "s4 = int(input('enter marks: '))\n",
    "s5 = int(input('enter marks: '))\n",
    "\n",
    "avg = float((s1+s2+s3+s4+s5)/5)\n",
    "\n",
    "if 100>=avg>=90:\n",
    "    print('Grade-A')\n",
    "elif  89>=avg>=80:\n",
    "    print('Grade-B')\n",
    "elif 79>=avg>=70:\n",
    "    print('Grade-C')\n",
    "elif 69>=avg>=60:\n",
    "    print('Grade-D')\n",
    "else:\n",
    "    print('Grade-F')"
   ]
  },
  {
   "cell_type": "markdown",
   "metadata": {},
   "source": [
    "WAP to input age and salary and calculate Tax as per tax rates if following table: \n",
    "Salary Range         Age < 60           Age >= 60\n",
    "0-2,50,000             0                   0\n",
    "2,50,001-5,00,000      5%                  3%\n",
    "5,00,001-10,00,000     10%                 8%\n",
    "Salary>10,00,001       15%                 12% \n"
   ]
  },
  {
   "cell_type": "code",
   "execution_count": null,
   "metadata": {},
   "outputs": [],
   "source": [
    "s = input('salary : ')\n",
    "a = input('age: ')\n",
    "\n",
    "if 250000>=s>=0:\n",
    "    print()"
   ]
  },
  {
   "cell_type": "markdown",
   "metadata": {},
   "source": [
    " 13. WAF: bmi() that takes the weight in kg and height in cm of a person, calculates and returns the\n",
    "BMI.\n",
    "Write code that calls this function after taking height and weight as inputs and then prints\n",
    "underweight, normal, overweight or obese depending on the value of BMI.\n",
    "Refer this link for the ranges:\n",
    " https://en.wikipedia.org/wiki/Body_mass_index \n",
    " \n",
    " BMI = (weight(kg)/height(cm)^2)\n",
    " \n",
    " Category\t             BMI (kg/m2)\t                    BMI Prime\n",
    "                         from\tto\t                         from\tto\n",
    "\n",
    "underweight                 16\t18.5\t                    0.64\t0.74\n",
    "Normal (healthy weight)\t    18.5\t25\t                        0.74\t1.0\n",
    "Severely obese\t              35\t40                      \t1.4\t1.6"
   ]
  },
  {
   "cell_type": "code",
   "execution_count": 106,
   "metadata": {},
   "outputs": [
    {
     "name": "stdout",
     "output_type": "stream",
     "text": [
      "enter the wieght in kg: 55\n",
      "enter the height in cm: 180\n",
      "underweight\n"
     ]
    }
   ],
   "source": [
    "kg = float(input('enter the wieght in kg: '))\n",
    "h = float(input('enter the height in cm: '))\n",
    "def bmi(kg,h):\n",
    "    return (kg/(h/100)**2)\n",
    "\n",
    "\n",
    "if 18.5>bmi(kg,h)>=16:\n",
    "    print('underweight')\n",
    "if 25>=bmi(kg,h)>18.5:\n",
    "    print('Normal')\n",
    "    \n",
    "if 40>=bmi(kg,h)>=35:\n",
    "    print('obese')"
   ]
  },
  {
   "cell_type": "markdown",
   "metadata": {},
   "source": [
    "14. Take input of age of 3 people by user and determine oldest and youngest among them. \n"
   ]
  },
  {
   "cell_type": "code",
   "execution_count": 119,
   "metadata": {},
   "outputs": [
    {
     "name": "stdout",
     "output_type": "stream",
     "text": [
      "first: 1\n",
      "second: 2\n",
      "third: 3\n",
      "The Oldest among the three is of age :  3\n",
      "The youngest among the three is of age :  1\n"
     ]
    }
   ],
   "source": [
    "a1 = int(input('first: '))\n",
    "a2 = int(input('second: '))\n",
    "a3 = int(input('third: '))\n",
    "l = [a1,a2,a3]\n",
    "\n",
    "print(\"The Oldest among the three is of age : \", max(l))\n",
    "print(\"The youngest among the three is of age : \", min(l))"
   ]
  },
  {
   "cell_type": "markdown",
   "metadata": {},
   "source": [
    "15. WAP to input a number and check if number is divisible by both 5 and 7. "
   ]
  },
  {
   "cell_type": "code",
   "execution_count": 122,
   "metadata": {},
   "outputs": [
    {
     "name": "stdout",
     "output_type": "stream",
     "text": [
      "number: 75\n",
      "not divisible by 5 and 7\n"
     ]
    }
   ],
   "source": [
    "n=int(input('number: '))\n",
    "if n%35==0:\n",
    "    print('divisible by both 5 and 7')\n",
    "else:\n",
    "    print('not divisible by 5 and 7 both')"
   ]
  },
  {
   "cell_type": "code",
   "execution_count": 127,
   "metadata": {},
   "outputs": [
    {
     "name": "stdout",
     "output_type": "stream",
     "text": [
      "number: 70\n",
      "Divisible by 5 and 7\n"
     ]
    }
   ],
   "source": [
    "n=int(input('number: '))\n",
    "\n",
    "if((n % 5 == 0) and (n% 7 == 0)):\n",
    "    print(\"Divisible by 5 and 7\")\n",
    "else:\n",
    "    print(\"Not Divisible by 5 and 7\")"
   ]
  },
  {
   "cell_type": "code",
   "execution_count": null,
   "metadata": {},
   "outputs": [],
   "source": []
  },
  {
   "cell_type": "code",
   "execution_count": null,
   "metadata": {},
   "outputs": [],
   "source": []
  },
  {
   "cell_type": "code",
   "execution_count": 4,
   "metadata": {},
   "outputs": [
    {
     "name": "stdout",
     "output_type": "stream",
     "text": [
      "enter age : 4\n",
      "Person of age  4 is KID\n"
     ]
    }
   ],
   "source": [
    "# input age and print 'kid ' if age below 18 else print 'adult'\n",
    "a = int(input('enter age : '))\n",
    "if a<18:\n",
    "     print(\"Person of age \", a , \"is KID\")\n",
    "else:\n",
    "    \n",
    "    print(\n",
    "    'adult')"
   ]
  },
  {
   "cell_type": "code",
   "execution_count": 6,
   "metadata": {},
   "outputs": [
    {
     "name": "stdout",
     "output_type": "stream",
     "text": [
      "enter a number: 4\n",
      "entered number is an integer => 4 INTEGER final integer\n"
     ]
    }
   ],
   "source": [
    "# WAP to input a number and convert to int. \n",
    "# Add logic to check if it is actually a nuber or not\n",
    "# Ex: 1 is number ;  A is not a number\n",
    "a=input('enter a number: ')\n",
    "\n",
    "if a.isdigit():\n",
    "    print('entered number is an integer =>', int(a),'INTEGER', 'final integer')\n",
    "else:\n",
    "    print('not an integer')\n"
   ]
  },
  {
   "cell_type": "code",
   "execution_count": 14,
   "metadata": {},
   "outputs": [
    {
     "name": "stdout",
     "output_type": "stream",
     "text": [
      "number: 12\n",
      "number 12 is in range\n"
     ]
    }
   ],
   "source": [
    "#number b/w 10-20\n",
    "a = int(input('number: '))\n",
    "#if 20>= a >=10:\n",
    "if a>= 10 and a<=20:\n",
    "    print('number',a,'is in range')\n",
    "else:\n",
    "    print('out of range')"
   ]
  },
  {
   "cell_type": "code",
   "execution_count": 22,
   "metadata": {},
   "outputs": [
    {
     "name": "stdout",
     "output_type": "stream",
     "text": [
      "ea\n",
      "Not Vowel\n"
     ]
    }
   ],
   "source": [
    "\n",
    "s = input()\n",
    "\n",
    "if len(s) == 1 and s in 'aeiouAEIOU':\n",
    "    print(\"Vowel\")\n",
    "else:\n",
    "    print(\"Not Vowel\")"
   ]
  },
  {
   "cell_type": "code",
   "execution_count": 30,
   "metadata": {},
   "outputs": [
    {
     "name": "stdout",
     "output_type": "stream",
     "text": [
      "111\n",
      "invalid age\n"
     ]
    }
   ],
   "source": [
    "\n",
    "# input age and print 'kid ' if age below 18 ; 18-60 print 'adult'; >60 print 'old'\n",
    "age = int(input())\n",
    "\n",
    "if age >= 0 and age <= 100: # outer\n",
    "    if (age < 18):  # inner\n",
    "        print(\"kid\")\n",
    "    elif (age < 60):\n",
    "        print(\"adult\") \n",
    "    else:\n",
    "        print(\"old\")\n",
    "\n",
    "else:\n",
    "    print(\"invalid age\")\n",
    "    \n"
   ]
  },
  {
   "cell_type": "code",
   "execution_count": null,
   "metadata": {},
   "outputs": [],
   "source": []
  }
 ],
 "metadata": {
  "kernelspec": {
   "display_name": "Python 3",
   "language": "python",
   "name": "python3"
  },
  "language_info": {
   "codemirror_mode": {
    "name": "ipython",
    "version": 3
   },
   "file_extension": ".py",
   "mimetype": "text/x-python",
   "name": "python",
   "nbconvert_exporter": "python",
   "pygments_lexer": "ipython3",
   "version": "3.7.4"
  }
 },
 "nbformat": 4,
 "nbformat_minor": 2
}
