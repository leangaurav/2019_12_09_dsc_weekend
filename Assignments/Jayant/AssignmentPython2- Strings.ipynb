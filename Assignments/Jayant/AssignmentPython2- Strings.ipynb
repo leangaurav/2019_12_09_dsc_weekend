{
 "cells": [
  {
   "cell_type": "code",
   "execution_count": 1,
   "metadata": {},
   "outputs": [
    {
     "name": "stdout",
     "output_type": "stream",
     "text": [
      "python is Object Oriente\n",
      "detneirO tcejbO si nohtyp\n",
      "python is Object Oriented\n",
      "de jsop\n",
      "\n",
      "on is \n",
      "25\n"
     ]
    }
   ],
   "source": [
    "s = 'python is Object Oriented'\n",
    "#print(s[-1])\n",
    "\n",
    "print(s[:-1])\n",
    "print(s[::-1])\n",
    "print(s[::1])\n",
    "print(s[::-4])\n",
    "\n",
    "print(s[1:1])\n",
    "print(s[4:10])\n",
    "print(len(s))\n",
    "\n",
    "\n"
   ]
  },
  {
   "cell_type": "code",
   "execution_count": 2,
   "metadata": {},
   "outputs": [
    {
     "ename": "IndexError",
     "evalue": "string index out of range",
     "output_type": "error",
     "traceback": [
      "\u001b[1;31m---------------------------------------------------------------------------\u001b[0m",
      "\u001b[1;31mIndexError\u001b[0m                                Traceback (most recent call last)",
      "\u001b[1;32m<ipython-input-2-c803f0c3658b>\u001b[0m in \u001b[0;36m<module>\u001b[1;34m\u001b[0m\n\u001b[0;32m      1\u001b[0m \u001b[0ms\u001b[0m \u001b[1;33m=\u001b[0m \u001b[1;34m''\u001b[0m\u001b[1;33m\u001b[0m\u001b[1;33m\u001b[0m\u001b[0m\n\u001b[1;32m----> 2\u001b[1;33m \u001b[0mprint\u001b[0m\u001b[1;33m(\u001b[0m\u001b[0ms\u001b[0m\u001b[1;33m[\u001b[0m\u001b[1;36m1\u001b[0m\u001b[1;33m]\u001b[0m\u001b[1;33m)\u001b[0m\u001b[1;33m\u001b[0m\u001b[1;33m\u001b[0m\u001b[0m\n\u001b[0m",
      "\u001b[1;31mIndexError\u001b[0m: string index out of range"
     ]
    }
   ],
   "source": [
    "s = ''\n",
    "print(s[1])"
   ]
  },
  {
   "cell_type": "code",
   "execution_count": null,
   "metadata": {},
   "outputs": [],
   "source": [
    "P = 'jayant'  # pyton is case sensitive\n",
    "print(p[1])"
   ]
  },
  {
   "cell_type": "code",
   "execution_count": 3,
   "metadata": {},
   "outputs": [
    {
     "name": "stdout",
     "output_type": "stream",
     "text": [
      "6\n",
      "abc\n",
      "3\n"
     ]
    }
   ],
   "source": [
    "s = 'a b cd'\n",
    "print(len(s))\n",
    "print(s[::2])\n",
    "print(len(s[::2]))"
   ]
  },
  {
   "cell_type": "code",
   "execution_count": 4,
   "metadata": {},
   "outputs": [
    {
     "name": "stdout",
     "output_type": "stream",
     "text": [
      "['a', 'b', 'c', 'd', '']\n",
      "a$b$c$d$\n"
     ]
    }
   ],
   "source": [
    "s = 'a#b#c#d#'\n",
    "#print(s.split())\n",
    "print(s.split('#'))\n",
    "I = s.split('#')\n",
    "s = '$'.join(I)\n",
    "print(s)"
   ]
  },
  {
   "cell_type": "code",
   "execution_count": null,
   "metadata": {},
   "outputs": [],
   "source": [
    "S = 'Gaurav'\n",
    "print(S[::-2])\n",
    "print(S[::-2][::-2])\n"
   ]
  },
  {
   "cell_type": "code",
   "execution_count": null,
   "metadata": {},
   "outputs": [],
   "source": [
    "print(1>2)"
   ]
  },
  {
   "cell_type": "code",
   "execution_count": null,
   "metadata": {},
   "outputs": [],
   "source": [
    "print(4%2,5%2,2%5, sep='-')"
   ]
  },
  {
   "cell_type": "code",
   "execution_count": null,
   "metadata": {},
   "outputs": [],
   "source": [
    "s='abcba'   ### have to check this one\n",
    "print(s.upper())\n",
    "print(s)\n",
    "#print(s.count('A'),end=',')\n",
    "#print(s.count('A',2,4),end=',')\n",
    "print(s.count('a',2,4),end=',')"
   ]
  },
  {
   "cell_type": "code",
   "execution_count": null,
   "metadata": {},
   "outputs": [],
   "source": [
    "s = 'ab cd  ef    jk'  # first slpit the string \n",
    "#in character then join them.\n",
    "p=(s.split())\n",
    "q = ''.join(p)\n",
    "print(q)"
   ]
  },
  {
   "cell_type": "code",
   "execution_count": null,
   "metadata": {},
   "outputs": [],
   "source": [
    "import math\n",
    "n = int(input('enter : '))\n",
    "print(math.sqrt(n))"
   ]
  },
  {
   "cell_type": "code",
   "execution_count": null,
   "metadata": {},
   "outputs": [],
   "source": [
    "n1 = int(input('first : '))\n",
    "n2 = int(input('second : '))\n",
    "n3 = int(input('third : '))\n",
    "n4 = int(input('fourth : '))\n",
    "p = (n1+n2+n3+n4)/400\n",
    "print('total percentage: ', p*100)"
   ]
  },
  {
   "cell_type": "code",
   "execution_count": 5,
   "metadata": {},
   "outputs": [
    {
     "name": "stdout",
     "output_type": "stream",
     "text": [
      "first : 1000\n",
      "second : 10\n",
      "third : 5\n",
      "total compund interest is :  610.5100000000006\n"
     ]
    }
   ],
   "source": [
    "# Compound Interest...\n",
    "\n",
    "p = int(input('first : '))\n",
    "r = int(input('second : '))\n",
    "t = int(input('third : '))\n",
    "x = ((1+r/100)**t)\n",
    "print('total compund interest is : ', p*(x-1))"
   ]
  },
  {
   "cell_type": "code",
   "execution_count": null,
   "metadata": {},
   "outputs": [],
   "source": [
    "s= input('enter any string : ')\n",
    "res_first= s[:len(s)//2]\n",
    "print(res_first)\n",
    "res_second= s[len(s)//2 if len(s)%2 == 0 else ((len(s)//2)+1):]\n",
    "print(res_second)\n"
   ]
  },
  {
   "cell_type": "code",
   "execution_count": 32,
   "metadata": {},
   "outputs": [
    {
     "name": "stdout",
     "output_type": "stream",
     "text": [
      "* * * * * \n",
      "\n",
      "    *\n",
      "    *\n",
      "    *\n",
      "    *\n"
     ]
    }
   ],
   "source": [
    "print('* '*5)\n",
    "print('\\n    *'*4)"
   ]
  },
  {
   "cell_type": "code",
   "execution_count": 49,
   "metadata": {},
   "outputs": [
    {
     "name": "stdout",
     "output_type": "stream",
     "text": [
      "* \b     * \n",
      " *\n"
     ]
    }
   ],
   "source": [
    "print('*','\\b     *', '\\n *'*1)"
   ]
  }
 ],
 "metadata": {
  "kernelspec": {
   "display_name": "Python 3",
   "language": "python",
   "name": "python3"
  },
  "language_info": {
   "codemirror_mode": {
    "name": "ipython",
    "version": 3
   },
   "file_extension": ".py",
   "mimetype": "text/x-python",
   "name": "python",
   "nbconvert_exporter": "python",
   "pygments_lexer": "ipython3",
   "version": "3.7.4"
  }
 },
 "nbformat": 4,
 "nbformat_minor": 2
}
