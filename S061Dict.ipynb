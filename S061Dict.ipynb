{
 "cells": [
  {
   "cell_type": "code",
   "execution_count": 1,
   "metadata": {},
   "outputs": [
    {
     "name": "stdout",
     "output_type": "stream",
     "text": [
      "[1, 2, 3, 4, 5, 6, 7, 8, 9, 10]\n"
     ]
    }
   ],
   "source": [
    "#WAP to print a list of 10 numbers 1-10\n",
    "print(list(range(1,11)))"
   ]
  },
  {
   "cell_type": "code",
   "execution_count": 2,
   "metadata": {},
   "outputs": [
    {
     "data": {
      "text/plain": [
       "(10, 9, 8, 7, 6, 5, 4, 3, 2, 1)"
      ]
     },
     "execution_count": 2,
     "metadata": {},
     "output_type": "execute_result"
    }
   ],
   "source": [
    "# tuple of 10 numbers from 10 - 1\n",
    "tuple(range(10, 0, -1))"
   ]
  },
  {
   "cell_type": "code",
   "execution_count": 6,
   "metadata": {},
   "outputs": [
    {
     "name": "stdout",
     "output_type": "stream",
     "text": [
      "1 2 3 4 5 6 7 8 9 10 "
     ]
    }
   ],
   "source": [
    "#  print numbers from 1-10\n",
    "for i in range(1,11):\n",
    "    print(i, end = ' ')"
   ]
  },
  {
   "cell_type": "code",
   "execution_count": 11,
   "metadata": {},
   "outputs": [
    {
     "name": "stdout",
     "output_type": "stream",
     "text": [
      "[1, 2, 3, 4, 5, 6, 7, 8, 9, 10]\n",
      "[1, 2, 3, 4, 5, 6, 7, 8, 9, 10] [10, 9, 8, 7, 6, 5, 4, 3, 2, 1]\n",
      "[10, 9, 8, 7, 6, 5, 4, 3, 2, 1]\n"
     ]
    }
   ],
   "source": [
    "a1 = list(range(1,11))\n",
    "print(a1)\n",
    "a2 = a1[::-1]\n",
    "print(a1, a2)\n",
    "a1.reverse()\n",
    "print(a1)"
   ]
  },
  {
   "cell_type": "markdown",
   "metadata": {},
   "source": [
    "## Dict"
   ]
  },
  {
   "cell_type": "code",
   "execution_count": null,
   "metadata": {},
   "outputs": [],
   "source": [
    "# trees\n",
    "# hash maps / map\n"
   ]
  },
  {
   "cell_type": "markdown",
   "metadata": {},
   "source": [
    "- key : immutable \n",
    "- value : any type\n",
    "- key: value mapping"
   ]
  },
  {
   "cell_type": "code",
   "execution_count": 15,
   "metadata": {},
   "outputs": [
    {
     "name": "stdout",
     "output_type": "stream",
     "text": [
      "{} <class 'dict'>\n",
      "{} <class 'dict'>\n"
     ]
    }
   ],
   "source": [
    "d = {}\n",
    "print(d, type(d))\n",
    "d = dict()\n",
    "print(d, type(d))\n",
    "# non-linear"
   ]
  },
  {
   "cell_type": "code",
   "execution_count": 30,
   "metadata": {},
   "outputs": [
    {
     "name": "stdout",
     "output_type": "stream",
     "text": [
      "{'a': 100}\n",
      "{'a': [10, 'string']}\n",
      "{'a': [10, 'string'], 'bcdef': 100}\n",
      "[10, 'string']\n"
     ]
    }
   ],
   "source": [
    "d = {}\n",
    "d[\"a\"] = 100\n",
    "print(d)\n",
    "d[\"a\"] = [10,'string']\n",
    "print(d)\n",
    "d[\"bcdef\"] = 100\n",
    "print(d)\n",
    "print(d['a'])"
   ]
  },
  {
   "cell_type": "code",
   "execution_count": 21,
   "metadata": {},
   "outputs": [
    {
     "name": "stdout",
     "output_type": "stream",
     "text": [
      "{100: 10} False\n",
      "{100: 10, 10: 'string'} True\n"
     ]
    }
   ],
   "source": [
    "# operations\n",
    "ab = dict()\n",
    "ab[100] = 10\n",
    "print(ab, 10 in ab)\n",
    "ab[10] = 'string'\n",
    "print(ab, 10 in ab)"
   ]
  },
  {
   "cell_type": "code",
   "execution_count": 24,
   "metadata": {},
   "outputs": [
    {
     "name": "stdout",
     "output_type": "stream",
     "text": [
      "{1: 2, 10: 'abcd'}\n"
     ]
    }
   ],
   "source": [
    "a = [(1,2), (10, 'abcd')]\n",
    "d = dict(a)\n",
    "print(d)"
   ]
  },
  {
   "cell_type": "code",
   "execution_count": 29,
   "metadata": {},
   "outputs": [
    {
     "name": "stdout",
     "output_type": "stream",
     "text": [
      "[(0, 0), (1, 1), (2, 4), (3, 9), (4, 16), (5, 25), (6, 36), (7, 49), (8, 64), (9, 81)]\n",
      "{0: 0, 1: 1, 2: 4, 3: 9, 4: 16, 5: 25, 6: 36, 7: 49, 8: 64, 9: 81}\n"
     ]
    }
   ],
   "source": [
    "a = []\n",
    "for i in range(10):\n",
    "    a.append( (i, i**2) )\n",
    "print(a)\n",
    "print(dict(a))"
   ]
  },
  {
   "cell_type": "code",
   "execution_count": 26,
   "metadata": {},
   "outputs": [
    {
     "name": "stdout",
     "output_type": "stream",
     "text": [
      "{1: 20, 2: 30}\n"
     ]
    }
   ],
   "source": [
    "d = {1:20, 2:30}\n",
    "print(d)"
   ]
  },
  {
   "cell_type": "code",
   "execution_count": 31,
   "metadata": {},
   "outputs": [
    {
     "name": "stdout",
     "output_type": "stream",
     "text": [
      "{1: 200}\n"
     ]
    }
   ],
   "source": [
    "d = {}\n",
    "d[1]= 100\n",
    "d[1] = d[1] + 100\n",
    "print(d)"
   ]
  },
  {
   "cell_type": "code",
   "execution_count": 37,
   "metadata": {},
   "outputs": [
    {
     "name": "stdout",
     "output_type": "stream",
     "text": [
      "1,2,abcd, ab,AB#$\n",
      "{'1': 1, ',': 4, '2': 1, 'a': 2, 'b': 2, 'c': 1, 'd': 1, ' ': 1, 'A': 1, 'B': 1, '#': 1, '$': 1}\n"
     ]
    }
   ],
   "source": [
    "# WAP to input a string and print frequency of each symbol in string\n",
    "s = input()\n",
    "d = {}\n",
    "\n",
    "for c in s:\n",
    "    if c in d:\n",
    "        d[c] = d[c] + 1\n",
    "    else:\n",
    "        d[c] = 1\n",
    "\n",
    "print(d)\n",
    "# s = 'abcabd'\n",
    "# c  a        b             c               a\n",
    "# d {a:10}   {a:10 , b:10} {a:10,b:10c:10}  {a:10, b:10,c:10}\n"
   ]
  },
  {
   "cell_type": "code",
   "execution_count": 45,
   "metadata": {},
   "outputs": [
    {
     "name": "stdout",
     "output_type": "stream",
     "text": [
      "100\n",
      "100\n",
      "None\n",
      "1000\n",
      "200\n"
     ]
    }
   ],
   "source": [
    "d = {}\n",
    "d[1] = 100\n",
    "d[2] = 200\n",
    "r = d.get(1)\n",
    "print(r)\n",
    "r = d[1]\n",
    "print(r)\n",
    "r = d.get(3)\n",
    "print(r)\n",
    "r = d.get(3,1000)\n",
    "print(r)\n",
    "r = d.get(2,1000)\n",
    "print(r)"
   ]
  },
  {
   "cell_type": "code",
   "execution_count": 46,
   "metadata": {},
   "outputs": [
    {
     "name": "stdout",
     "output_type": "stream",
     "text": [
      "abacaa\n",
      "{'a': 4, 'b': 1, 'c': 1}\n"
     ]
    }
   ],
   "source": [
    "# WAP to input a string and print frequency of each symbol in string\n",
    "s = input()\n",
    "d = {}\n",
    "\n",
    "for c in s:\n",
    "    d[c] = d.get(c, 0) + 1 \n",
    "\n",
    "print(d)"
   ]
  },
  {
   "cell_type": "code",
   "execution_count": 52,
   "metadata": {},
   "outputs": [
    {
     "name": "stdout",
     "output_type": "stream",
     "text": [
      "c\n",
      "c\n"
     ]
    }
   ],
   "source": [
    "d = {10:\"abcd\"}\n",
    "print(d[10][2])\n",
    "print(d.get(10)[2])"
   ]
  },
  {
   "cell_type": "code",
   "execution_count": 48,
   "metadata": {},
   "outputs": [
    {
     "name": "stdout",
     "output_type": "stream",
     "text": [
      "abcabaaaaaa\n",
      "{'a', 'b', 'c'}\n"
     ]
    }
   ],
   "source": [
    "print(set(input()))"
   ]
  },
  {
   "cell_type": "code",
   "execution_count": 57,
   "metadata": {},
   "outputs": [
    {
     "name": "stdout",
     "output_type": "stream",
     "text": [
      "100\n",
      "abc\n",
      "200\n"
     ]
    },
    {
     "ename": "KeyError",
     "evalue": "1",
     "output_type": "error",
     "traceback": [
      "\u001b[1;31m---------------------------------------------------------------------------\u001b[0m",
      "\u001b[1;31mKeyError\u001b[0m                                  Traceback (most recent call last)",
      "\u001b[1;32m<ipython-input-57-e43c5457dcf8>\u001b[0m in \u001b[0;36m<module>\u001b[1;34m\u001b[0m\n\u001b[0;32m      9\u001b[0m \u001b[0mprint\u001b[0m\u001b[1;33m(\u001b[0m\u001b[0mr\u001b[0m\u001b[1;33m)\u001b[0m\u001b[1;33m\u001b[0m\u001b[1;33m\u001b[0m\u001b[0m\n\u001b[0;32m     10\u001b[0m \u001b[1;33m\u001b[0m\u001b[0m\n\u001b[1;32m---> 11\u001b[1;33m \u001b[0mr\u001b[0m \u001b[1;33m=\u001b[0m \u001b[0md\u001b[0m\u001b[1;33m.\u001b[0m\u001b[0mpop\u001b[0m\u001b[1;33m(\u001b[0m\u001b[1;36m1\u001b[0m\u001b[1;33m)\u001b[0m\u001b[1;33m\u001b[0m\u001b[1;33m\u001b[0m\u001b[0m\n\u001b[0m\u001b[0;32m     12\u001b[0m \u001b[0mprint\u001b[0m\u001b[1;33m(\u001b[0m\u001b[0mr\u001b[0m\u001b[1;33m)\u001b[0m\u001b[1;33m\u001b[0m\u001b[1;33m\u001b[0m\u001b[0m\n\u001b[0;32m     13\u001b[0m \u001b[1;33m\u001b[0m\u001b[0m\n",
      "\u001b[1;31mKeyError\u001b[0m: 1"
     ]
    }
   ],
   "source": [
    "d = {1:100, 2:200, 3: 300 , 4: 400}\n",
    "r = d.pop(1)\n",
    "print(r)\n",
    "\n",
    "r = d.pop(1,'abc')\n",
    "print(r)\n",
    "\n",
    "r = d.pop(2,'abc')\n",
    "print(r)\n",
    "\n",
    "r = d.pop(1)\n",
    "print(r)\n",
    "\n",
    "del d[3]\n",
    "print(d)"
   ]
  },
  {
   "cell_type": "code",
   "execution_count": 58,
   "metadata": {},
   "outputs": [
    {
     "name": "stdout",
     "output_type": "stream",
     "text": [
      "{1: 100, 2: 200, 4: 400}\n"
     ]
    }
   ],
   "source": [
    "d = {1:100, 2:200, 3: 300 , 4: 400}\n",
    "\n",
    "del d[3]\n",
    "print(d)"
   ]
  },
  {
   "cell_type": "code",
   "execution_count": 64,
   "metadata": {},
   "outputs": [
    {
     "name": "stdout",
     "output_type": "stream",
     "text": [
      "dict_keys([1, 2, 3, 4])\n",
      "dict_values([100, 200, 300, 400])\n",
      "dict_items([(1, 100), (2, 200), (3, 300), (4, 400)])\n",
      "(1, 100)\n",
      "(2, 200)\n",
      "(3, 300)\n",
      "(4, 400)\n",
      "1 :::: 100\n",
      "2 :::: 200\n",
      "3 :::: 300\n",
      "4 :::: 400\n",
      "1\n",
      "2\n",
      "3\n",
      "4\n"
     ]
    }
   ],
   "source": [
    "d = {1:100, 2:200, 3: 300 , 4: 400}\n",
    "print(d.keys())\n",
    "print(d.values())\n",
    "print(d.items())\n",
    "\n",
    "for r in d.items():\n",
    "    print(r)\n",
    "    \n",
    "for k,v in d.items():\n",
    "    print(k,\"::::\", v)\n",
    "    \n",
    "for x in d:\n",
    "    print(x)"
   ]
  },
  {
   "cell_type": "code",
   "execution_count": 67,
   "metadata": {},
   "outputs": [
    {
     "name": "stdout",
     "output_type": "stream",
     "text": [
      "1 2 3\n",
      "(1, 2, 3)\n"
     ]
    }
   ],
   "source": [
    "t = (1,2,3)\n",
    "x, y,z = t # unpacking\n",
    "print(x,y,z)\n",
    "\n",
    "t = 1,2,3 # packing\n",
    "print(t)"
   ]
  },
  {
   "cell_type": "code",
   "execution_count": 70,
   "metadata": {},
   "outputs": [
    {
     "name": "stdout",
     "output_type": "stream",
     "text": [
      "Gaurav\n",
      "Gaurav\n",
      "Gaurav\n",
      "Gaurav\n",
      "Gaurav\n"
     ]
    }
   ],
   "source": [
    "for _ in range(5):\n",
    "    print(\"Gaurav\")"
   ]
  }
 ],
 "metadata": {
  "kernelspec": {
   "display_name": "Python 3",
   "language": "python",
   "name": "python3"
  },
  "language_info": {
   "codemirror_mode": {
    "name": "ipython",
    "version": 3
   },
   "file_extension": ".py",
   "mimetype": "text/x-python",
   "name": "python",
   "nbconvert_exporter": "python",
   "pygments_lexer": "ipython3",
   "version": "3.7.3"
  }
 },
 "nbformat": 4,
 "nbformat_minor": 2
}
