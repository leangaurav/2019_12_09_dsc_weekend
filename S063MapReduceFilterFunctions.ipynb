{
 "cells": [
  {
   "cell_type": "code",
   "execution_count": 5,
   "metadata": {},
   "outputs": [
    {
     "name": "stdout",
     "output_type": "stream",
     "text": [
      "Gaurav\n"
     ]
    }
   ],
   "source": [
    "def gaurav():\n",
    "    print(\"Gaurav\")\n",
    "    \n",
    "for i in range(1):\n",
    "    gaurav()"
   ]
  },
  {
   "cell_type": "code",
   "execution_count": 9,
   "metadata": {},
   "outputs": [
    {
     "name": "stdout",
     "output_type": "stream",
     "text": [
      "<function add at 0x0000021768E02158>\n"
     ]
    },
    {
     "data": {
      "text/plain": [
       "30"
      ]
     },
     "execution_count": 9,
     "metadata": {},
     "output_type": "execute_result"
    }
   ],
   "source": [
    "def add(x,y):\n",
    "    return x + y\n",
    "\n",
    "f = add\n",
    "del add\n",
    "print(f)\n",
    "f(10,20)"
   ]
  },
  {
   "cell_type": "code",
   "execution_count": 12,
   "metadata": {},
   "outputs": [
    {
     "name": "stdout",
     "output_type": "stream",
     "text": [
      "100\n"
     ]
    }
   ],
   "source": [
    "def add(x,y):\n",
    "    return x + y\n",
    "def sub(x,y):\n",
    "    return x + y\n",
    "\n",
    "def agg(seq, f): # higher order functions\n",
    "    start = 0\n",
    "    for data in seq:\n",
    "        start = f(start, data)\n",
    "    return start\n",
    "    \n",
    "r = agg([10,20,30,40], add)\n",
    "print(r)\n",
    "\n",
    "# "
   ]
  },
  {
   "cell_type": "code",
   "execution_count": 18,
   "metadata": {},
   "outputs": [
    {
     "name": "stdout",
     "output_type": "stream",
     "text": [
      "30\n",
      "-10\n",
      "100000000000000000000\n"
     ]
    }
   ],
   "source": [
    "def add(x,y):\n",
    "    return x + y\n",
    "def sub(x,y):\n",
    "    return x - y\n",
    "def mul(x,y):\n",
    "    return x * y\n",
    "def div(x,y):\n",
    "    return x / y\n",
    "\n",
    "d = {'+':add, '-':sub, '*':mul, '/':div, 'pow':pow}\n",
    "def calc(op):\n",
    "    return d[op]\n",
    "    \n",
    "print( calc('+')(10,20) )\n",
    "print( calc('-')(10,20) )\n",
    "#print( calc('0')(10,20) )\n",
    "print( calc('pow')(10,20) )"
   ]
  },
  {
   "cell_type": "markdown",
   "metadata": {},
   "source": [
    "### map, filter, reduce"
   ]
  },
  {
   "cell_type": "code",
   "execution_count": 19,
   "metadata": {},
   "outputs": [
    {
     "name": "stdout",
     "output_type": "stream",
     "text": [
      "['a', 'a', 'P']\n"
     ]
    }
   ],
   "source": [
    "a = [\"abc\", \"ab\", 'PQR']\n",
    "\n",
    "r = []\n",
    "for s in a:\n",
    "    r.append( s[0] )\n",
    "print(r)"
   ]
  },
  {
   "cell_type": "code",
   "execution_count": 25,
   "metadata": {},
   "outputs": [
    {
     "name": "stdout",
     "output_type": "stream",
     "text": [
      "<map object at 0x0000021768E2B048>\n",
      "100\n",
      "400\n",
      "900\n",
      "1600\n"
     ]
    }
   ],
   "source": [
    "def square(x):\n",
    "    return x*x\n",
    "\n",
    "a = [10,20,30,40]\n",
    "\n",
    "m = map(square, a) # function with one argument, seq\n",
    "print(m)\n",
    "for data in m:\n",
    "    print(data)"
   ]
  },
  {
   "cell_type": "code",
   "execution_count": 22,
   "metadata": {},
   "outputs": [
    {
     "name": "stdout",
     "output_type": "stream",
     "text": [
      "range(0, 10)\n",
      "[0, 1, 2, 3, 4, 5, 6, 7, 8, 9]\n"
     ]
    }
   ],
   "source": [
    "r = range(10)\n",
    "print(r)\n",
    "\n",
    "a = list(r)\n",
    "print(a)"
   ]
  },
  {
   "cell_type": "code",
   "execution_count": 26,
   "metadata": {},
   "outputs": [
    {
     "name": "stdout",
     "output_type": "stream",
     "text": [
      "(3, 2, 3)\n"
     ]
    }
   ],
   "source": [
    "a = [\"abc\", \"ab\", 'PQR']\n",
    "\n",
    "r = map(len, a)\n",
    "print(tuple(r))"
   ]
  },
  {
   "cell_type": "code",
   "execution_count": 29,
   "metadata": {},
   "outputs": [
    {
     "name": "stdout",
     "output_type": "stream",
     "text": [
      "[1, 0, 1, 0, 1]\n",
      "3\n"
     ]
    }
   ],
   "source": [
    "def mod(x):\n",
    "    return x % 2\n",
    "\n",
    "m = map(mod, [11,22,33,44,55])\n",
    "r = list(m)\n",
    "print(r)\n",
    "print(sum(r))"
   ]
  },
  {
   "cell_type": "code",
   "execution_count": 31,
   "metadata": {},
   "outputs": [
    {
     "name": "stdout",
     "output_type": "stream",
     "text": [
      "3\n",
      "1\n"
     ]
    }
   ],
   "source": [
    "def mod(x):\n",
    "    return x % 2\n",
    "\n",
    "m = sum(map(mod, [11,22,33,44,55]))\n",
    "print(m)\n",
    "\n",
    "print(mod(33))"
   ]
  },
  {
   "cell_type": "code",
   "execution_count": 33,
   "metadata": {},
   "outputs": [
    {
     "name": "stdout",
     "output_type": "stream",
     "text": [
      "[3, 1]\n",
      "[]\n",
      "[3, 1]\n"
     ]
    }
   ],
   "source": [
    "a = ['abc', 'p']\n",
    "\n",
    "m = map(len, a)\n",
    "print(list(m))\n",
    "print(list(m))\n",
    "m = map(len, a)\n",
    "print(list(m))"
   ]
  },
  {
   "cell_type": "code",
   "execution_count": 35,
   "metadata": {},
   "outputs": [
    {
     "name": "stdout",
     "output_type": "stream",
     "text": [
      "<filter object at 0x0000021768E1A400>\n",
      "[222, 444]\n"
     ]
    }
   ],
   "source": [
    "a = [11,222,333,444]\n",
    "\n",
    "def is_even(x):\n",
    "    if x%2 == 0:\n",
    "        return True\n",
    "    else:\n",
    "        return False\n",
    "    \n",
    "f = filter(is_even, a)\n",
    "print(f)\n",
    "print(list(f))"
   ]
  },
  {
   "cell_type": "code",
   "execution_count": 39,
   "metadata": {},
   "outputs": [
    {
     "name": "stdout",
     "output_type": "stream",
     "text": [
      "<filter object at 0x0000021768DC9E80>\n",
      "[11, 333]\n"
     ]
    }
   ],
   "source": [
    "a = [11,222,333,444]\n",
    "\n",
    "def funct(x):\n",
    "    return x%2\n",
    "    \n",
    "f = filter(funct, a)\n",
    "print(f)\n",
    "print(list(f))"
   ]
  },
  {
   "cell_type": "code",
   "execution_count": 43,
   "metadata": {},
   "outputs": [
    {
     "name": "stdout",
     "output_type": "stream",
     "text": [
      "100\n",
      "100\n",
      "240000\n"
     ]
    }
   ],
   "source": [
    "a = [10,20,30,40]\n",
    "def add(x,y):\n",
    "    return x + y\n",
    "\n",
    "def mul(x,y):\n",
    "    return x*y\n",
    "\n",
    "from functools import reduce\n",
    "\n",
    "r = reduce( add, a)\n",
    "print(r)\n",
    "print(sum(a))\n",
    "r = reduce( mul, a)\n",
    "print(r)\n",
    "\n",
    "# add(10,20)\n",
    "#          add(30, 30)\n",
    "#                       add(60, 40)\n",
    "#     100"
   ]
  }
 ],
 "metadata": {
  "kernelspec": {
   "display_name": "Python 3",
   "language": "python",
   "name": "python3"
  },
  "language_info": {
   "codemirror_mode": {
    "name": "ipython",
    "version": 3
   },
   "file_extension": ".py",
   "mimetype": "text/x-python",
   "name": "python",
   "nbconvert_exporter": "python",
   "pygments_lexer": "ipython3",
   "version": "3.7.3"
  }
 },
 "nbformat": 4,
 "nbformat_minor": 2
}
